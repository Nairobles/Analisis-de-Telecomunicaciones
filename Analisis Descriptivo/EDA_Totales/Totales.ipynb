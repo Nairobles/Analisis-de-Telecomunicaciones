{
 "cells": [
  {
   "cell_type": "code",
   "execution_count": 2,
   "metadata": {},
   "outputs": [
    {
     "name": "stderr",
     "output_type": "stream",
     "text": [
      "C:\\Users\\Pepinot\\AppData\\Local\\Temp\\ipykernel_2820\\4080736814.py:1: DeprecationWarning: \n",
      "Pyarrow will become a required dependency of pandas in the next major release of pandas (pandas 3.0),\n",
      "(to allow more performant data types, such as the Arrow string type, and better interoperability with other libraries)\n",
      "but was not found to be installed on your system.\n",
      "If this would cause problems for you,\n",
      "please provide us feedback at https://github.com/pandas-dev/pandas/issues/54466\n",
      "        \n",
      "  import pandas as pd\n"
     ]
    }
   ],
   "source": [
    "import pandas as pd"
   ]
  },
  {
   "cell_type": "markdown",
   "metadata": {},
   "source": [
    "*Vamos a comenzar abriendo todos los datasets que contienen informacion de los **Totales** del pais, con la intencion de unificarlo en un solo dataset.*"
   ]
  },
  {
   "cell_type": "code",
   "execution_count": 3,
   "metadata": {},
   "outputs": [],
   "source": [
    "df1 = pd.read_csv(r'C:\\Users\\Pepinot\\Documents\\Henry\\Modulos\\PROYECTO INDIVIDUAL 2\\EDA_Totales\\Ingresos .csv')  # Año Trimestre Ingresos (miles de pesos) Periodo\n",
    "df2 = pd.read_csv(r'C:\\Users\\Pepinot\\Documents\\Henry\\Modulos\\PROYECTO INDIVIDUAL 2\\EDA_Totales\\Penetracion-totales.csv')  # Año Trimestre Accesos por cada 100 hogares, Accesos por cada 100 habitantes\n",
    "df3 = pd.read_csv(r'C:\\Users\\Pepinot\\Documents\\Henry\\Modulos\\PROYECTO INDIVIDUAL 2\\EDA_Totales\\Totales Accesos Por Tecnología.csv')  # Año Trimestre ASDL, Cablemodem, Fibra óptica, Wireless, Otros, Total, Periodo\n",
    "df4 = pd.read_csv(r'C:\\Users\\Pepinot\\Documents\\Henry\\Modulos\\PROYECTO INDIVIDUAL 2\\EDA_Totales\\Totales Accesos por velocidad.csv')  # Año Trimestre Hasta 512 kbps,Entre 512 Kbps y 1 Mbps,Entre 1 Mbps y 6 Mbps,Entre 6 Mbps y 10 Mbps,Entre 10 Mbps y 20 Mbps,Entre 20 Mbps y 30 Mbps,Más de 30 Mbps,OTROS,Total"
   ]
  },
  {
   "cell_type": "markdown",
   "metadata": {},
   "source": [
    "----------------------------------------------------------------------\n",
    "**Limpieza y normalización**"
   ]
  },
  {
   "cell_type": "markdown",
   "metadata": {},
   "source": [
    "Vamos a realizar el mismo trabajo de limpieza y normalizacion que hicimos para los datasets de Provincia. El objetivo es nuevamente unificar toda la informacion en un  solo dataset."
   ]
  },
  {
   "cell_type": "code",
   "execution_count": 4,
   "metadata": {},
   "outputs": [
    {
     "data": {
      "text/plain": [
       "Index(['Año', ' Trimestre ', 'Ingresos (miles de pesos)', ' Periodo '], dtype='object')"
      ]
     },
     "execution_count": 4,
     "metadata": {},
     "output_type": "execute_result"
    }
   ],
   "source": [
    "#Verificamos que los nombres de las columnas esten estandarizados\n",
    "df1.columns"
   ]
  },
  {
   "cell_type": "code",
   "execution_count": 5,
   "metadata": {},
   "outputs": [],
   "source": [
    "#Si tienen espacios, los quitamos\n",
    "\n",
    "df1.columns = df1.columns.str.strip()"
   ]
  },
  {
   "cell_type": "code",
   "execution_count": 6,
   "metadata": {},
   "outputs": [
    {
     "data": {
      "text/plain": [
       "Index(['Año', ' Trimestre ', ' ADSL ', ' Cablemodem ', ' Fibra óptica ',\n",
       "       ' Wireless ', ' Otros ', ' Total ', ' Periodo '],\n",
       "      dtype='object')"
      ]
     },
     "execution_count": 6,
     "metadata": {},
     "output_type": "execute_result"
    }
   ],
   "source": [
    "df3.columns"
   ]
  },
  {
   "cell_type": "code",
   "execution_count": 7,
   "metadata": {},
   "outputs": [],
   "source": [
    "df3.columns = df3.columns.str.strip()"
   ]
  },
  {
   "cell_type": "code",
   "execution_count": 8,
   "metadata": {},
   "outputs": [
    {
     "name": "stdout",
     "output_type": "stream",
     "text": [
      "DataFrame 1:\n",
      "Año          int64\n",
      "Trimestre    int64\n",
      "dtype: object\n",
      "\n",
      "\n",
      "DataFrame 2:\n",
      "Año          int64\n",
      "Trimestre    int64\n",
      "dtype: object\n",
      "\n",
      "\n",
      "DataFrame 3:\n",
      "Año          int64\n",
      "Trimestre    int64\n",
      "dtype: object\n",
      "\n",
      "\n",
      "DataFrame 4:\n",
      "Año          int64\n",
      "Trimestre    int64\n",
      "dtype: object\n",
      "\n",
      "\n"
     ]
    }
   ],
   "source": [
    "#Verificamos que las los tipos de variables dentro de las columnas, a partir de las cuales vamos a unir los datasets, coincidan\n",
    "\n",
    "for i, df in enumerate([df1, df2, df3, df4], 1):\n",
    "    print(f\"DataFrame {i}:\")\n",
    "    print(df[['Año', 'Trimestre']].dtypes)\n",
    "    print(\"\\n\")"
   ]
  },
  {
   "cell_type": "markdown",
   "metadata": {},
   "source": [
    "----------------------------------------------------------------------\n",
    "*Normalizacion de DataFrame 'Ingresos.csv'*"
   ]
  },
  {
   "cell_type": "code",
   "execution_count": 9,
   "metadata": {},
   "outputs": [],
   "source": [
    "#Vamos a cambiar el nombre de la columna 'Ingresos (miles de pesos)' por simplemente 'Ingresos' para que sea mas practico a la hora de trabajar\n",
    "\n",
    "df1= df1.rename(columns={'Ingresos (miles de pesos)': 'Ingresos'})"
   ]
  },
  {
   "cell_type": "code",
   "execution_count": 10,
   "metadata": {},
   "outputs": [
    {
     "data": {
      "text/plain": [
       "{str}"
      ]
     },
     "execution_count": 10,
     "metadata": {},
     "output_type": "execute_result"
    }
   ],
   "source": [
    "#Verificamos que tipo de dato son las filas de la columna 'Ingresos' y nos encontramos con que es un string\n",
    "\n",
    "set(df1['Ingresos'].apply(type))"
   ]
  },
  {
   "cell_type": "code",
   "execution_count": 11,
   "metadata": {},
   "outputs": [],
   "source": [
    "#Cuando queremos pasar a flotantes nos encontramos con problemas de espacios, puntos y comas que imposibiitan las transformaciones\n",
    "\n",
    "df1['Ingresos'] = df1['Ingresos'].str.replace('.', '', regex=False)  #Eliminamos los puntos\n",
    "df1['Ingresos'] = df1['Ingresos'].str.replace(',', '.', regex=False)  #Reemplazamos la coma por un punto decimal\n",
    "df1['Ingresos'] = df1['Ingresos'].str.strip()  #Eliminamos los espacios en blanco al inicio y al final\n",
    "df1['Ingresos'] = df1['Ingresos'].astype(float)  #Finalmente convertimos a float\n"
   ]
  },
  {
   "cell_type": "code",
   "execution_count": 12,
   "metadata": {},
   "outputs": [],
   "source": [
    "#En la columna 'Año' vemos que hay un valor erroneo '2033'. Lo cambiamos por 2023 ya que coincide con el periodo marcado 'Ene-Mar 2023'\n",
    "\n",
    "df1.loc[df1['Año'] == 2033, 'Año'] = 2023"
   ]
  },
  {
   "cell_type": "markdown",
   "metadata": {},
   "source": [
    "----------------------------------------------------------------------\n",
    "*Normalizacion de DataFrame 'Penetracion-totales.csv'*"
   ]
  },
  {
   "cell_type": "code",
   "execution_count": 13,
   "metadata": {},
   "outputs": [
    {
     "data": {
      "text/plain": [
       "{str}"
      ]
     },
     "execution_count": 13,
     "metadata": {},
     "output_type": "execute_result"
    }
   ],
   "source": [
    "#Verificamos que tipos de datos hay en la columna 'Accesos por cada 100 hogares'\n",
    "set(df2['Accesos por cada 100 hogares'].apply(type))"
   ]
  },
  {
   "cell_type": "code",
   "execution_count": 14,
   "metadata": {},
   "outputs": [
    {
     "data": {
      "text/plain": [
       "{str}"
      ]
     },
     "execution_count": 14,
     "metadata": {},
     "output_type": "execute_result"
    }
   ],
   "source": [
    "#Verificamos que tipos de datos hay en la columna 'Accesos por cada 100 hab'\n",
    "set(df2['Accesos por cada 100 hab'].apply(type))"
   ]
  },
  {
   "cell_type": "code",
   "execution_count": 15,
   "metadata": {},
   "outputs": [],
   "source": [
    "#Los modificamos a float\n",
    "\n",
    "columnas = ['Accesos por cada 100 hogares', 'Accesos por cada 100 hab']\n",
    "\n",
    "for col in columnas:\n",
    "    df2[col] = df2[col].str.replace(',', '.', regex=False)  \n",
    "    df2[col] = df2[col].astype(float) "
   ]
  },
  {
   "cell_type": "markdown",
   "metadata": {},
   "source": [
    "----------------------------------------------------------------------\n",
    "*Normalizacion de DataFrame 'Totales Accesos Por Tecnologia.csv'*"
   ]
  },
  {
   "cell_type": "code",
   "execution_count": 16,
   "metadata": {},
   "outputs": [],
   "source": [
    "df3.columns = df3.columns.str.strip()"
   ]
  },
  {
   "cell_type": "code",
   "execution_count": 17,
   "metadata": {},
   "outputs": [],
   "source": [
    "#Pasamos toda la columna 'Trimestre' a str para quitarle espacios al principio y al final\n",
    "\n",
    "df3['Trimestre'] = df3['Trimestre'].astype(str)"
   ]
  },
  {
   "cell_type": "code",
   "execution_count": 18,
   "metadata": {},
   "outputs": [],
   "source": [
    "#Quitamos los espacios\n",
    "\n",
    "df3['Trimestre'] = df3['Trimestre'].str.strip() "
   ]
  },
  {
   "cell_type": "code",
   "execution_count": 19,
   "metadata": {},
   "outputs": [],
   "source": [
    "#Volvemos a pasar a int\n",
    "\n",
    "df3['Trimestre'] = df3['Trimestre'].astype('Int64')"
   ]
  },
  {
   "cell_type": "code",
   "execution_count": 20,
   "metadata": {},
   "outputs": [
    {
     "name": "stdout",
     "output_type": "stream",
     "text": [
      "ADSL             object\n",
      "Cablemodem       object\n",
      "Fibra óptica     object\n",
      "Wireless        float64\n",
      "Otros           float64\n",
      "Total            object\n",
      "dtype: object\n"
     ]
    }
   ],
   "source": [
    "#Verificamos el tipo de dato de las columnas \n",
    "\n",
    "print(df3[['ADSL', 'Cablemodem', 'Fibra óptica','Wireless','Otros','Total']].dtypes)\n"
   ]
  },
  {
   "cell_type": "code",
   "execution_count": 21,
   "metadata": {},
   "outputs": [],
   "source": [
    "#Cambiamos a float las columnas 'ADSL', 'Cablemodem','Fibra óptica' y 'Total'\"Ingresos .csv\"\n",
    "\n",
    "columnas = ['ADSL', 'Cablemodem', 'Fibra óptica','Total']\n",
    "\n",
    "for col in columnas:\n",
    "    df3[col] = df3[col].str.replace('.', '', regex=False)  \n",
    "    df3[col] = df3[col].str.replace(',', '.', regex=False)  \n",
    "    df3[col] = df3[col].str.strip()  \n",
    "    df3[col] = df3[col].astype(float) "
   ]
  },
  {
   "cell_type": "markdown",
   "metadata": {},
   "source": [
    "----------------------------------------------------------------------\n",
    "*Modificación en todos los DataFrames*"
   ]
  },
  {
   "cell_type": "code",
   "execution_count": 22,
   "metadata": {},
   "outputs": [],
   "source": [
    "#Ordenamos toda la informacion por la columna 'Año' de forma descendente\n",
    "\n",
    "for df in [df1, df2, df3, df4]:\n",
    "    df = df.sort_values(by='Año', ascending=False)"
   ]
  },
  {
   "cell_type": "code",
   "execution_count": 23,
   "metadata": {},
   "outputs": [],
   "source": [
    "#Filtramos toda la informacion a partir del 2019\n",
    "\n",
    "df1=df1[df1['Año'] >= 2019]\n",
    "df2=df2[df2['Año'] >= 2019]\n",
    "df3=df3[df3['Año'] >= 2019]\n",
    "df4=df4[df4['Año'] >= 2019]"
   ]
  },
  {
   "cell_type": "code",
   "execution_count": 24,
   "metadata": {},
   "outputs": [],
   "source": [
    "#Vamos a eliminar la columna 'Periodo' de los dataframes porque es und dato ya aportado por la columna 'Trimestre'\n",
    "dataframes = [df1, df2, df3]\n",
    "\n",
    "for df in dataframes:\n",
    "    if 'Periodo' in df.columns:\n",
    "        df.drop(columns='Periodo', inplace=True)"
   ]
  },
  {
   "cell_type": "markdown",
   "metadata": {},
   "source": [
    "----------------------------------------------------------------------\n",
    "*Unificación de los datasets*"
   ]
  },
  {
   "cell_type": "code",
   "execution_count": 25,
   "metadata": {},
   "outputs": [],
   "source": [
    "#Unificamos todos los DataFrames en uno solo, uniendo por las columnas 'Año' y 'Trimestre'\n",
    "\n",
    "df_unificado = df1.merge(df2, on=['Año', 'Trimestre'], how='outer')\n",
    "df_unificado = df_unificado.merge(df3, on=['Año', 'Trimestre'], how='outer')\n",
    "df_unificado = df_unificado.merge(df4, on=['Año', 'Trimestre'], how='outer')"
   ]
  },
  {
   "cell_type": "code",
   "execution_count": 26,
   "metadata": {},
   "outputs": [
    {
     "data": {
      "text/plain": [
       "Index(['Año', 'Trimestre', 'Ingresos', 'Accesos por cada 100 hogares',\n",
       "       'Accesos por cada 100 hab', 'ADSL', 'Cablemodem', 'Fibra óptica',\n",
       "       'Wireless', 'Otros', 'Total_x', 'Hasta 512 kbps',\n",
       "       'Entre 512 Kbps y 1 Mbps', 'Entre 1 Mbps y 6 Mbps',\n",
       "       'Entre 6 Mbps y 10 Mbps', 'Entre 10 Mbps y 20 Mbps',\n",
       "       'Entre 20 Mbps y 30 Mbps', 'Más de 30 Mbps', 'OTROS', 'Total_y'],\n",
       "      dtype='object')"
      ]
     },
     "execution_count": 26,
     "metadata": {},
     "output_type": "execute_result"
    }
   ],
   "source": [
    "#Revisamos que las columnas hayan quedado adecuadas\n",
    "df_unificado.columns"
   ]
  },
  {
   "cell_type": "code",
   "execution_count": 27,
   "metadata": {},
   "outputs": [],
   "source": [
    "#Modificamos el nombre de algunas columnas para que sea comprensiva la informacion\n",
    "\n",
    "df_unificado= df_unificado.rename(columns={'Otros': 'Otros accesos'})"
   ]
  },
  {
   "cell_type": "code",
   "execution_count": 28,
   "metadata": {},
   "outputs": [],
   "source": [
    "df_unificado= df_unificado.rename(columns={'OTROS': 'Otras velocidades'})"
   ]
  },
  {
   "cell_type": "code",
   "execution_count": 29,
   "metadata": {},
   "outputs": [],
   "source": [
    "#Cambiar nombre de 'Total_x'\n",
    "\n",
    "df_unificado= df_unificado.rename(columns={'Total_x': 'Total accesos'})"
   ]
  },
  {
   "cell_type": "code",
   "execution_count": 30,
   "metadata": {},
   "outputs": [],
   "source": [
    "#Cambiar nombre de 'Total_y'\n",
    "\n",
    "df_unificado= df_unificado.rename(columns={'Total_y': 'Total velocidades'})"
   ]
  },
  {
   "cell_type": "code",
   "execution_count": 31,
   "metadata": {},
   "outputs": [
    {
     "name": "stdout",
     "output_type": "stream",
     "text": [
      "Año                               int64\n",
      "Trimestre                         int64\n",
      "Ingresos                        float64\n",
      "Accesos por cada 100 hogares    float64\n",
      "Accesos por cada 100 hab        float64\n",
      "ADSL                            float64\n",
      "Cablemodem                      float64\n",
      "Fibra óptica                    float64\n",
      "Wireless                        float64\n",
      "Otros accesos                   float64\n",
      "Total accesos                   float64\n",
      "Hasta 512 kbps                  float64\n",
      "Entre 512 Kbps y 1 Mbps         float64\n",
      "Entre 1 Mbps y 6 Mbps            object\n",
      "Entre 6 Mbps y 10 Mbps           object\n",
      "Entre 10 Mbps y 20 Mbps          object\n",
      "Entre 20 Mbps y 30 Mbps          object\n",
      "Más de 30 Mbps                   object\n",
      "Otras velocidades               float64\n",
      "Total velocidades                object\n",
      "dtype: object\n"
     ]
    }
   ],
   "source": [
    "#Verificamos que tipo de datos se encuentra en cada columna\n",
    "\n",
    "print(df_unificado[['Año', 'Trimestre', 'Ingresos', 'Accesos por cada 100 hogares',\n",
    "       'Accesos por cada 100 hab', 'ADSL', 'Cablemodem', 'Fibra óptica',\n",
    "       'Wireless', 'Otros accesos', 'Total accesos', 'Hasta 512 kbps',\n",
    "       'Entre 512 Kbps y 1 Mbps', 'Entre 1 Mbps y 6 Mbps',\n",
    "       'Entre 6 Mbps y 10 Mbps', 'Entre 10 Mbps y 20 Mbps',\n",
    "       'Entre 20 Mbps y 30 Mbps', 'Más de 30 Mbps', 'Otras velocidades',\n",
    "       'Total velocidades']].dtypes)"
   ]
  },
  {
   "cell_type": "code",
   "execution_count": 32,
   "metadata": {},
   "outputs": [],
   "source": [
    "#Cambiamos el tipo de dato de las siguientes velocidades\n",
    "columnas_a_procesar = ['Entre 1 Mbps y 6 Mbps', 'Entre 6 Mbps y 10 Mbps', 'Entre 10 Mbps y 20 Mbps','Entre 20 Mbps y 30 Mbps','Más de 30 Mbps','Total velocidades']"
   ]
  },
  {
   "cell_type": "code",
   "execution_count": 33,
   "metadata": {},
   "outputs": [],
   "source": [
    "#Reemplazamos los puntos y convertimos a float para cada columna en la lista\n",
    "for columna in columnas_a_procesar:\n",
    "    df_unificado[columna] = df_unificado[columna].str.replace('.', '', regex=False).astype(float)"
   ]
  },
  {
   "cell_type": "code",
   "execution_count": 34,
   "metadata": {},
   "outputs": [],
   "source": [
    "#Pasamos el DataFrame unificado a un archivo csv\n",
    "\n",
    "#df_unificado.to_csv('Pais.csv', index=False)\n",
    "\n",
    "df_unificado.to_excel('Pais.xlsx', index=False)"
   ]
  },
  {
   "cell_type": "markdown",
   "metadata": {},
   "source": [
    "----------------------------------------------------------------------\n",
    "----------------------------------------------------------------------"
   ]
  }
 ],
 "metadata": {
  "kernelspec": {
   "display_name": "Python 3",
   "language": "python",
   "name": "python3"
  },
  "language_info": {
   "codemirror_mode": {
    "name": "ipython",
    "version": 3
   },
   "file_extension": ".py",
   "mimetype": "text/x-python",
   "name": "python",
   "nbconvert_exporter": "python",
   "pygments_lexer": "ipython3",
   "version": "3.12.5"
  }
 },
 "nbformat": 4,
 "nbformat_minor": 2
}
