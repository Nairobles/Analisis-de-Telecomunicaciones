{
 "cells": [
  {
   "cell_type": "code",
   "execution_count": 1,
   "metadata": {},
   "outputs": [
    {
     "name": "stderr",
     "output_type": "stream",
     "text": [
      "C:\\Users\\Pepinot\\AppData\\Local\\Temp\\ipykernel_5784\\2011421623.py:1: DeprecationWarning: \n",
      "Pyarrow will become a required dependency of pandas in the next major release of pandas (pandas 3.0),\n",
      "(to allow more performant data types, such as the Arrow string type, and better interoperability with other libraries)\n",
      "but was not found to be installed on your system.\n",
      "If this would cause problems for you,\n",
      "please provide us feedback at https://github.com/pandas-dev/pandas/issues/54466\n",
      "        \n",
      "  import pandas as pd\n"
     ]
    }
   ],
   "source": [
    "import pandas as pd\n",
    "import seaborn as sns\n",
    "import matplotlib.pyplot as plt\n",
    "import numpy as np"
   ]
  },
  {
   "cell_type": "code",
   "execution_count": 2,
   "metadata": {},
   "outputs": [],
   "source": [
    "df = pd.read_csv(r'C:\\Users\\Pepinot\\Documents\\Henry\\Modulos\\PROYECTO INDIVIDUAL 2\\EDA_Totales\\Pais.csv')"
   ]
  },
  {
   "cell_type": "markdown",
   "metadata": {},
   "source": [
    "En este apartado vamos a dar comienzo al analisis exploratorio de los datos referentes al pais entre los años 2019-2024"
   ]
  },
  {
   "cell_type": "markdown",
   "metadata": {},
   "source": [
    "# Vision general de los datos"
   ]
  },
  {
   "cell_type": "code",
   "execution_count": 5,
   "metadata": {},
   "outputs": [
    {
     "name": "stdout",
     "output_type": "stream",
     "text": [
      "<class 'pandas.core.frame.DataFrame'>\n",
      "RangeIndex: 21 entries, 0 to 20\n",
      "Data columns (total 20 columns):\n",
      " #   Column                        Non-Null Count  Dtype  \n",
      "---  ------                        --------------  -----  \n",
      " 0   Año                           21 non-null     int64  \n",
      " 1   Trimestre                     21 non-null     int64  \n",
      " 2   Ingresos                      21 non-null     float64\n",
      " 3   Accesos por cada 100 hogares  21 non-null     float64\n",
      " 4   Accesos por cada 100 hab      21 non-null     float64\n",
      " 5   ADSL                          21 non-null     float64\n",
      " 6   Cablemodem                    21 non-null     float64\n",
      " 7   Fibra óptica                  21 non-null     float64\n",
      " 8   Wireless                      21 non-null     float64\n",
      " 9   Otros accesos                 21 non-null     float64\n",
      " 10  Total accesos                 21 non-null     float64\n",
      " 11  Hasta 512 kbps                21 non-null     float64\n",
      " 12  Entre 512 Kbps y 1 Mbps       21 non-null     float64\n",
      " 13  Entre 1 Mbps y 6 Mbps         21 non-null     float64\n",
      " 14  Entre 6 Mbps y 10 Mbps        21 non-null     float64\n",
      " 15  Entre 10 Mbps y 20 Mbps       21 non-null     float64\n",
      " 16  Entre 20 Mbps y 30 Mbps       21 non-null     float64\n",
      " 17  Más de 30 Mbps                21 non-null     float64\n",
      " 18  Otras velocidades             21 non-null     float64\n",
      " 19  Total velocidades             21 non-null     float64\n",
      "dtypes: float64(18), int64(2)\n",
      "memory usage: 3.4 KB\n",
      "None\n",
      "               Año  Trimestre      Ingresos  Accesos por cada 100 hogares  \\\n",
      "count    21.000000  21.000000  2.100000e+01                     21.000000   \n",
      "mean   2021.142857   2.428571  6.823849e+07                     70.994286   \n",
      "std       1.558387   1.164965  6.328874e+07                      5.975931   \n",
      "min    2019.000000   1.000000  2.020741e+07                     62.480000   \n",
      "25%    2020.000000   1.000000  3.199744e+07                     65.790000   \n",
      "50%    2021.000000   2.000000  4.299994e+07                     70.580000   \n",
      "75%    2022.000000   3.000000  7.244348e+07                     77.020000   \n",
      "max    2024.000000   4.000000  2.804191e+08                     78.890000   \n",
      "\n",
      "       Accesos por cada 100 hab          ADSL    Cablemodem  Fibra óptica  \\\n",
      "count                 21.000000  2.100000e+01  2.100000e+01  2.100000e+01   \n",
      "mean                  22.125238  1.845448e+06  5.539146e+06  2.072184e+06   \n",
      "std                    1.971815  7.152205e+05  5.553728e+05  1.145270e+06   \n",
      "min                   19.310000  7.744750e+05  4.435439e+06  6.370990e+05   \n",
      "25%                   20.360000  1.315373e+06  5.005115e+06  1.106725e+06   \n",
      "50%                   21.980000  1.950631e+06  5.826257e+06  1.566048e+06   \n",
      "75%                   24.140000  2.295533e+06  6.002582e+06  3.060575e+06   \n",
      "max                   24.790000  3.132789e+06  6.073426e+06  4.015101e+06   \n",
      "\n",
      "         Wireless  Otros accesos  Total accesos  Hasta 512 kbps  \\\n",
      "count   21.000000      21.000000   2.100000e+01        21.00000   \n",
      "mean   471.912667     232.607476   1.016130e+07        59.96081   \n",
      "std    106.826524      27.018567   1.047942e+06        61.44871   \n",
      "min    276.419000     166.389000   8.648135e+06        28.80100   \n",
      "25%    376.667000     213.298000   9.164684e+06        31.98100   \n",
      "50%    492.415000     247.016000   1.008554e+07        39.48700   \n",
      "75%    572.969000     252.596000   1.120811e+07        41.03800   \n",
      "max    598.682000     265.328000   1.163316e+07       241.71300   \n",
      "\n",
      "       Entre 512 Kbps y 1 Mbps  Entre 1 Mbps y 6 Mbps  Entre 6 Mbps y 10 Mbps  \\\n",
      "count                21.000000           2.100000e+01            2.100000e+01   \n",
      "mean                 72.183952           1.999756e+06            1.056853e+06   \n",
      "std                  37.270184           9.439984e+05            9.531460e+04   \n",
      "min                  28.521000           8.661520e+05            8.711420e+05   \n",
      "25%                  42.185000           1.075272e+06            1.022014e+06   \n",
      "50%                  71.742000           2.531271e+06            1.053107e+06   \n",
      "75%                  85.668000           2.649819e+06            1.095772e+06   \n",
      "max                 195.706000           3.444458e+06            1.245333e+06   \n",
      "\n",
      "       Entre 10 Mbps y 20 Mbps  Entre 20 Mbps y 30 Mbps  Más de 30 Mbps  \\\n",
      "count             2.100000e+01             2.100000e+01    2.100000e+01   \n",
      "mean              8.373287e+05             6.068159e+05    5.281210e+06   \n",
      "std               1.847401e+05             2.933240e+05    2.266919e+06   \n",
      "min               6.721550e+05             3.355730e+05    1.138728e+06   \n",
      "25%               7.291940e+05             3.647300e+05    3.711499e+06   \n",
      "50%               7.993500e+05             5.323090e+05    4.948174e+06   \n",
      "75%               8.516190e+05             5.959200e+05    7.410902e+06   \n",
      "max               1.464748e+06             1.250366e+06    8.363694e+06   \n",
      "\n",
      "       Otras velocidades  Total velocidades  \n",
      "count          21.000000       2.100000e+01  \n",
      "mean          247.190000       1.016130e+07  \n",
      "std            81.278801       1.047942e+06  \n",
      "min           126.570000       8.648135e+06  \n",
      "25%           194.008000       9.164684e+06  \n",
      "50%           201.777000       1.008554e+07  \n",
      "75%           295.592000       1.120811e+07  \n",
      "max           414.754000       1.163316e+07  \n"
     ]
    }
   ],
   "source": [
    "print(df.info())\n",
    "print(df.describe())"
   ]
  },
  {
   "cell_type": "code",
   "execution_count": 3,
   "metadata": {},
   "outputs": [
    {
     "name": "stdout",
     "output_type": "stream",
     "text": [
      "Valores nulos por columna:\n",
      "Año                             0\n",
      "Trimestre                       0\n",
      "Ingresos                        0\n",
      "Accesos por cada 100 hogares    0\n",
      "Accesos por cada 100 hab        0\n",
      "ADSL                            0\n",
      "Cablemodem                      0\n",
      "Fibra óptica                    0\n",
      "Wireless                        0\n",
      "Otros accesos                   0\n",
      "Total accesos                   0\n",
      "Hasta 512 kbps                  0\n",
      "Entre 512 Kbps y 1 Mbps         0\n",
      "Entre 1 Mbps y 6 Mbps           0\n",
      "Entre 6 Mbps y 10 Mbps          0\n",
      "Entre 10 Mbps y 20 Mbps         0\n",
      "Entre 20 Mbps y 30 Mbps         0\n",
      "Más de 30 Mbps                  0\n",
      "Otras velocidades               0\n",
      "Total velocidades               0\n",
      "dtype: int64\n",
      "\n",
      "Porcentaje de valores nulos por columna:\n",
      "Año                             0.0\n",
      "Trimestre                       0.0\n",
      "Ingresos                        0.0\n",
      "Accesos por cada 100 hogares    0.0\n",
      "Accesos por cada 100 hab        0.0\n",
      "ADSL                            0.0\n",
      "Cablemodem                      0.0\n",
      "Fibra óptica                    0.0\n",
      "Wireless                        0.0\n",
      "Otros accesos                   0.0\n",
      "Total accesos                   0.0\n",
      "Hasta 512 kbps                  0.0\n",
      "Entre 512 Kbps y 1 Mbps         0.0\n",
      "Entre 1 Mbps y 6 Mbps           0.0\n",
      "Entre 6 Mbps y 10 Mbps          0.0\n",
      "Entre 10 Mbps y 20 Mbps         0.0\n",
      "Entre 20 Mbps y 30 Mbps         0.0\n",
      "Más de 30 Mbps                  0.0\n",
      "Otras velocidades               0.0\n",
      "Total velocidades               0.0\n",
      "dtype: float64\n"
     ]
    }
   ],
   "source": [
    "#Detección de valores nulos y faltantes\n",
    "\n",
    "print(\"Valores nulos por columna:\")\n",
    "print(df.isnull().sum())\n",
    "\n",
    "print(\"\\nPorcentaje de valores nulos por columna:\")\n",
    "print(df.isnull().sum() / len(df) * 100)"
   ]
  },
  {
   "cell_type": "code",
   "execution_count": 4,
   "metadata": {},
   "outputs": [
    {
     "name": "stdout",
     "output_type": "stream",
     "text": [
      "\n",
      "Número de filas duplicadas: 0\n"
     ]
    }
   ],
   "source": [
    "#Detección de duplicados\n",
    "duplicados = df.duplicated().sum()\n",
    "print(f\"\\nNúmero de filas duplicadas: {duplicados}\")\n"
   ]
  },
  {
   "cell_type": "code",
   "execution_count": 6,
   "metadata": {},
   "outputs": [
    {
     "name": "stdout",
     "output_type": "stream",
     "text": [
      "\n",
      "Outliers en Año:\n",
      "Empty DataFrame\n",
      "Columns: [Año, Año, Trimestre]\n",
      "Index: []\n",
      "\n",
      "Outliers en Trimestre:\n",
      "Empty DataFrame\n",
      "Columns: [Trimestre, Año, Trimestre]\n",
      "Index: []\n",
      "\n",
      "Outliers en Ingresos:\n",
      "        Ingresos   Año  Trimestre\n",
      "19  1.673760e+08  2023          4\n",
      "20  2.804191e+08  2024          1\n",
      "\n",
      "Outliers en Accesos por cada 100 hogares:\n",
      "Empty DataFrame\n",
      "Columns: [Accesos por cada 100 hogares, Año, Trimestre]\n",
      "Index: []\n",
      "\n",
      "Outliers en Accesos por cada 100 hab:\n",
      "Empty DataFrame\n",
      "Columns: [Accesos por cada 100 hab, Año, Trimestre]\n",
      "Index: []\n",
      "\n",
      "Outliers en ADSL:\n",
      "Empty DataFrame\n",
      "Columns: [ADSL, Año, Trimestre]\n",
      "Index: []\n",
      "\n",
      "Outliers en Cablemodem:\n",
      "Empty DataFrame\n",
      "Columns: [Cablemodem, Año, Trimestre]\n",
      "Index: []\n",
      "\n",
      "Outliers en Fibra óptica:\n",
      "Empty DataFrame\n",
      "Columns: [Fibra óptica, Año, Trimestre]\n",
      "Index: []\n",
      "\n",
      "Outliers en Wireless:\n",
      "Empty DataFrame\n",
      "Columns: [Wireless, Año, Trimestre]\n",
      "Index: []\n",
      "\n",
      "Outliers en Otros accesos:\n",
      "Empty DataFrame\n",
      "Columns: [Otros accesos, Año, Trimestre]\n",
      "Index: []\n",
      "\n",
      "Outliers en Total accesos:\n",
      "Empty DataFrame\n",
      "Columns: [Total accesos, Año, Trimestre]\n",
      "Index: []\n",
      "\n",
      "Outliers en Hasta 512 kbps:\n",
      "   Hasta 512 kbps   Año  Trimestre\n",
      "0         166.573  2019          1\n",
      "1         202.790  2019          2\n",
      "2         241.713  2019          3\n",
      "\n",
      "Outliers en Entre 512 Kbps y 1 Mbps:\n",
      "   Entre 512 Kbps y 1 Mbps   Año  Trimestre\n",
      "0                  195.706  2019          1\n",
      "\n",
      "Outliers en Entre 1 Mbps y 6 Mbps:\n",
      "Empty DataFrame\n",
      "Columns: [Entre 1 Mbps y 6 Mbps, Año, Trimestre]\n",
      "Index: []\n",
      "\n",
      "Outliers en Entre 6 Mbps y 10 Mbps:\n",
      "    Entre 6 Mbps y 10 Mbps   Año  Trimestre\n",
      "0                 882836.0  2019          1\n",
      "1                 871142.0  2019          2\n",
      "11               1245333.0  2021          4\n",
      "12               1209148.0  2022          1\n",
      "\n",
      "Outliers en Entre 10 Mbps y 20 Mbps:\n",
      "   Entre 10 Mbps y 20 Mbps   Año  Trimestre\n",
      "0                1464748.0  2019          1\n",
      "1                1169632.0  2019          2\n",
      "\n",
      "Outliers en Entre 20 Mbps y 30 Mbps:\n",
      "   Entre 20 Mbps y 30 Mbps   Año  Trimestre\n",
      "0                1244215.0  2019          1\n",
      "1                1250366.0  2019          2\n",
      "2                1141545.0  2019          3\n",
      "3                1004083.0  2019          4\n",
      "\n",
      "Outliers en Más de 30 Mbps:\n",
      "Empty DataFrame\n",
      "Columns: [Más de 30 Mbps, Año, Trimestre]\n",
      "Index: []\n",
      "\n",
      "Outliers en Otras velocidades:\n",
      "Empty DataFrame\n",
      "Columns: [Otras velocidades, Año, Trimestre]\n",
      "Index: []\n",
      "\n",
      "Outliers en Total velocidades:\n",
      "Empty DataFrame\n",
      "Columns: [Total velocidades, Año, Trimestre]\n",
      "Index: []\n"
     ]
    }
   ],
   "source": [
    "#Detección de outliers\n",
    "def detectar_outliers(df, columna):\n",
    "    Q1 = df[columna].quantile(0.25)\n",
    "    Q3 = df[columna].quantile(0.75)\n",
    "    IQR = Q3 - Q1\n",
    "    lower_bound = Q1 - 1.5 * IQR\n",
    "    upper_bound = Q3 + 1.5 * IQR\n",
    "    outliers = df[(df[columna] < lower_bound) | (df[columna] > upper_bound)]\n",
    "    return outliers\n",
    "\n",
    "columnas_numericas = df.select_dtypes(include=[np.number]).columns\n",
    "\n",
    "for columna in columnas_numericas:\n",
    "    outliers = detectar_outliers(df, columna)\n",
    "    print(f\"\\nOutliers en {columna}:\")\n",
    "    print(outliers[[columna, 'Año', 'Trimestre']])"
   ]
  },
  {
   "attachments": {
    "image.png": {
     "image/png": "[encoded data removed]"
    }
   },
   "cell_type": "markdown",
   "metadata": {},
   "source": [
    "En la columna trimestre observamos dos outliers interesantes:\n",
    "\n",
    "![image.png](attachment:image.png)\n",
    "\n",
    "Vamos a observarlo en un grafico"
   ]
  },
  {
   "cell_type": "code",
   "execution_count": 25,
   "metadata": {},
   "outputs": [
    {
     "data": {
      "image/png": "[encoded data removed]",
      "text/plain": [
       "<Figure size 1200x600 with 1 Axes>"
      ]
     },
     "metadata": {},
     "output_type": "display_data"
    }
   ],
   "source": [
    "#Primero calculamos los umbrales para outliers\n",
    "def visualizar_outliers_ingresos(df):\n",
    "\n",
    "    Q1 = df['Ingresos'].quantile(0.25)\n",
    "    Q3 = df['Ingresos'].quantile(0.75)\n",
    "    IQR = Q3 - Q1\n",
    "    lower_bound = Q1 - 1.5 * IQR\n",
    "    upper_bound = Q3 + 1.5 * IQR\n",
    "\n",
    "#Graficamos\n",
    "plt.figure(figsize=(12, 6))\n",
    "\n",
    "plt.scatter(df['Año'], df['Ingresos'], alpha=0.5, label='Ingresos')\n",
    "\n",
    "plt.title('Outliers en Ingresos', fontsize=16)\n",
    "plt.xlabel('Años', fontsize=12)\n",
    "plt.ylabel('Ingresos (Millones de Pesos)', fontsize=12)\n",
    "plt.legend(fontsize=10)\n",
    "plt.xticks(np.arange(df['Año'].min(), df['Año'].max()+1, 1.0))\n",
    "plt.grid(True, linestyle='--', alpha=0.7)\n",
    "plt.tight_layout()\n",
    "plt.show()"
   ]
  },
  {
   "cell_type": "markdown",
   "metadata": {},
   "source": [
    "Estos outliers nos muestran buenas noticias para la empresa ya que año a año se superan en ingresos."
   ]
  }
 ],
 "metadata": {
  "kernelspec": {
   "display_name": "Python 3",
   "language": "python",
   "name": "python3"
  },
  "language_info": {
   "codemirror_mode": {
    "name": "ipython",
    "version": 3
   },
   "file_extension": ".py",
   "mimetype": "text/x-python",
   "name": "python",
   "nbconvert_exporter": "python",
   "pygments_lexer": "ipython3",
   "version": "3.12.5"
  }
 },
 "nbformat": 4,
 "nbformat_minor": 2
}
