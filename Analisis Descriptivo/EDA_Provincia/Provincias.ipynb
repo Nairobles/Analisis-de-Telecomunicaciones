{
 "cells": [
  {
   "cell_type": "code",
   "execution_count": 2,
   "metadata": {},
   "outputs": [
    {
     "name": "stderr",
     "output_type": "stream",
     "text": [
      "C:\\Users\\Pepinot\\AppData\\Local\\Temp\\ipykernel_14880\\4080736814.py:1: DeprecationWarning: \n",
      "Pyarrow will become a required dependency of pandas in the next major release of pandas (pandas 3.0),\n",
      "(to allow more performant data types, such as the Arrow string type, and better interoperability with other libraries)\n",
      "but was not found to be installed on your system.\n",
      "If this would cause problems for you,\n",
      "please provide us feedback at https://github.com/pandas-dev/pandas/issues/54466\n",
      "        \n",
      "  import pandas as pd\n"
     ]
    }
   ],
   "source": [
    "import pandas as pd"
   ]
  },
  {
   "cell_type": "markdown",
   "metadata": {},
   "source": [
    "*Vamos a comenzar abriendo todos los datasets que contienen informacion de las **provincias**, con la intencion de unificarlo en un solo dataset.*"
   ]
  },
  {
   "cell_type": "code",
   "execution_count": 3,
   "metadata": {},
   "outputs": [],
   "source": [
    "#Abrimos los archivos que contienen información de las provincias\n",
    "\n",
    "df1 = pd.read_csv(r'C:\\Users\\Pepinot\\Documents\\Henry\\Modulos\\PROYECTO INDIVIDUAL 2\\EDA_Provincia\\Accesos Por Tecnología.csv')  # Año Trimestre Provincia ADSL Cablemodem Fibra óptica Wireless OtrosTotal\n",
    "df2 = pd.read_csv(r'C:\\Users\\Pepinot\\Documents\\Henry\\Modulos\\PROYECTO INDIVIDUAL 2\\EDA_Provincia\\Velocidad % por prov.csv')  # Año Trimestre Provincia Mbps (Media de bajada)\n",
    "df3 = pd.read_csv(r'C:\\Users\\Pepinot\\Documents\\Henry\\Modulos\\PROYECTO INDIVIDUAL 2\\EDA_Provincia\\Penetracion-hogares.csv')  # Año Trimestre Provincia Accesos por cada 100 hogares\n",
    "df4 = pd.read_csv(r'C:\\Users\\Pepinot\\Documents\\Henry\\Modulos\\PROYECTO INDIVIDUAL 2\\EDA_Provincia\\Accesos por velocidad.csv')  # Año Trimestre Provincia HASTA 512 kbps +512 Kbps - 1 Mbps ..."
   ]
  },
  {
   "cell_type": "markdown",
   "metadata": {},
   "source": [
    "----------------------------------------------------------------------\n",
    "**Limpieza y normalización**"
   ]
  },
  {
   "cell_type": "markdown",
   "metadata": {},
   "source": [
    "*Corregiremos todos los errores que nos encontremos para lograr unir los Datasets*"
   ]
  },
  {
   "cell_type": "code",
   "execution_count": 4,
   "metadata": {},
   "outputs": [
    {
     "data": {
      "text/plain": [
       "Index(['Año', ' Trimestre ', ' Provincia ', 'Accesos por cada 100 hogares'], dtype='object')"
      ]
     },
     "execution_count": 4,
     "metadata": {},
     "output_type": "execute_result"
    }
   ],
   "source": [
    "#Abrimos el dataset 'Penetración-hogares' para observar las columnas\n",
    "\n",
    "df3.columns"
   ]
  },
  {
   "cell_type": "code",
   "execution_count": 5,
   "metadata": {},
   "outputs": [],
   "source": [
    "#Quitamos los espacios tanto al principio como al final\n",
    "\n",
    "df3.columns = df3.columns.str.strip()"
   ]
  },
  {
   "cell_type": "code",
   "execution_count": 6,
   "metadata": {},
   "outputs": [
    {
     "data": {
      "text/plain": [
       "{str}"
      ]
     },
     "execution_count": 6,
     "metadata": {},
     "output_type": "execute_result"
    }
   ],
   "source": [
    "#Verificamos que tipos de datos hay en la columna 'Accesos por cada 100 hogares'\n",
    "set(df3['Accesos por cada 100 hogares'].apply(type))"
   ]
  },
  {
   "cell_type": "code",
   "execution_count": 7,
   "metadata": {},
   "outputs": [],
   "source": [
    "df3['Accesos por cada 100 hogares'] = df3['Accesos por cada 100 hogares'].str.replace(',', '.', regex=False)  \n",
    "df3['Accesos por cada 100 hogares'] = df3['Accesos por cada 100 hogares'].astype(float) "
   ]
  },
  {
   "cell_type": "code",
   "execution_count": 8,
   "metadata": {},
   "outputs": [],
   "source": [
    "#Le sacamos los espacios al contenido de las columnas 'Provincia' de todos los data sets\n",
    "df1['Provincia'] = df1['Provincia'].str.strip()\n",
    "df2['Provincia'] = df2['Provincia'].str.strip()\n",
    "df3['Provincia'] = df3['Provincia'].str.strip()\n",
    "df4['Provincia'] = df4['Provincia'].str.strip()"
   ]
  },
  {
   "cell_type": "code",
   "execution_count": 9,
   "metadata": {},
   "outputs": [],
   "source": [
    "#Encontramos que dentro del dataset 'Accesos por velocidad' se expresan valores del 4to cuatrimestre de 2024, siendo informacion erronea \n",
    "\n",
    "df4 = df4[~((df4['Año'] == 2024) & (df4['Trimestre'] == 4))]"
   ]
  },
  {
   "cell_type": "code",
   "execution_count": 10,
   "metadata": {},
   "outputs": [],
   "source": [
    "#Dentro de 'Accesos_por_tecnologia' parte del contenido de la columna 'Trimestre' contiene un simbolo '*'. \n",
    "#Debemos eliminarlos para una normalizacion de variables \n",
    "\n",
    "df1['Trimestre'] = df1['Trimestre'].str.replace('*', '', regex=False).str.strip()\n"
   ]
  },
  {
   "cell_type": "code",
   "execution_count": 11,
   "metadata": {},
   "outputs": [],
   "source": [
    "#Lo mismo sucede en la columna 'Año'\n",
    "\n",
    "df1['Año'] = df1['Año'].str.replace('*', '', regex=False).str.strip()"
   ]
  },
  {
   "cell_type": "code",
   "execution_count": 12,
   "metadata": {},
   "outputs": [],
   "source": [
    "#En 'Accesos_por_tecnologia' nos encontramos con dos filas que en la pagina figuran como notas al pie. \n",
    "#Las eliminaremos\n",
    "\n",
    "df1 = df1.iloc[:-2]"
   ]
  },
  {
   "cell_type": "code",
   "execution_count": 13,
   "metadata": {},
   "outputs": [
    {
     "name": "stdout",
     "output_type": "stream",
     "text": [
      "ADSL             object\n",
      "Cablemodem       object\n",
      "Fibra óptica     object\n",
      "Wireless        float64\n",
      "Otros           float64\n",
      "Total            object\n",
      "dtype: object\n"
     ]
    }
   ],
   "source": [
    "#Verificamos el tipo de dato de las columnas \n",
    "\n",
    "print(df1[['ADSL', 'Cablemodem', 'Fibra óptica','Wireless','Otros','Total']].dtypes)"
   ]
  },
  {
   "cell_type": "code",
   "execution_count": 14,
   "metadata": {},
   "outputs": [],
   "source": [
    "#Cambiamos a float las columnas 'ADSL', 'Cablemodem','Fibra óptica' y 'Total'\n",
    "\n",
    "columnas = ['ADSL', 'Cablemodem', 'Fibra óptica','Total']\n",
    "\n",
    "for col in columnas:\n",
    "    df1[col] = df1[col].str.replace('.', '', regex=False)  \n",
    "    df1[col] = df1[col].str.replace(',', '.', regex=False)  \n",
    "    df1[col] = df1[col].str.strip()  \n",
    "    df1[col] = df1[col].astype(float) "
   ]
  },
  {
   "cell_type": "code",
   "execution_count": 15,
   "metadata": {},
   "outputs": [
    {
     "data": {
      "text/plain": [
       "{str}"
      ]
     },
     "execution_count": 15,
     "metadata": {},
     "output_type": "execute_result"
    }
   ],
   "source": [
    "#Verificamos que tipos de datos hay en la columna 'Mbps (Media de bajada)'\n",
    "\n",
    "set(df2['Mbps (Media de bajada)'].apply(type))\n"
   ]
  },
  {
   "cell_type": "code",
   "execution_count": 16,
   "metadata": {},
   "outputs": [],
   "source": [
    "#Lo modificamos a flotante\n",
    "df2['Mbps (Media de bajada)'] = df2['Mbps (Media de bajada)'].str.replace(',', '.', regex=False)  \n",
    "df2['Mbps (Media de bajada)'] = df2['Mbps (Media de bajada)'].astype(float) "
   ]
  },
  {
   "cell_type": "code",
   "execution_count": 17,
   "metadata": {},
   "outputs": [
    {
     "name": "stdout",
     "output_type": "stream",
     "text": [
      "HASTA 512 kbps         float64\n",
      "+ 512 Kbps - 1 Mbps    float64\n",
      "+ 1 Mbps - 6 Mbps       object\n",
      "+ 6 Mbps - 10 Mbps     float64\n",
      "+ 10 Mbps - 20 Mbps    float64\n",
      "+ 20 Mbps - 30 Mbps    float64\n",
      "+ 30 Mbps               object\n",
      "OTROS                  float64\n",
      "Total                   object\n",
      "dtype: object\n"
     ]
    }
   ],
   "source": [
    "#Verificamos que tipos de datos hay en las columnas referentes a las velocidades\n",
    "\n",
    "print(df4[['HASTA 512 kbps','+ 512 Kbps - 1 Mbps','+ 1 Mbps - 6 Mbps','+ 6 Mbps - 10 Mbps',\n",
    "               '+ 10 Mbps - 20 Mbps','+ 20 Mbps - 30 Mbps','+ 30 Mbps','OTROS','Total']].dtypes)"
   ]
  },
  {
   "cell_type": "code",
   "execution_count": 18,
   "metadata": {},
   "outputs": [],
   "source": [
    "#Cambiamos la velocidad '+ 1 Mbps - 6 Mbps' a flotante\n",
    "\n",
    "df4['+ 1 Mbps - 6 Mbps'] = df4['+ 1 Mbps - 6 Mbps'].str.replace('.', '', regex=False)  \n",
    "df4['+ 1 Mbps - 6 Mbps'] = df4['+ 1 Mbps - 6 Mbps'].astype(float) "
   ]
  },
  {
   "cell_type": "code",
   "execution_count": 19,
   "metadata": {},
   "outputs": [],
   "source": [
    "#Cambiamos la velocidad '+ 30 Mbps' a flotante\n",
    "\n",
    "df4['+ 30 Mbps'] = df4['+ 30 Mbps'] .str.replace('.', '', regex=False)  \n",
    "df4['+ 30 Mbps'] = df4['+ 30 Mbps'] .astype(float) "
   ]
  },
  {
   "cell_type": "code",
   "execution_count": 20,
   "metadata": {},
   "outputs": [],
   "source": [
    "#Cambiamos la velocidad 'Total' a flotante\n",
    "df4['Total'] = df4['Total'] .str.replace('.', '', regex=False)  \n",
    "df4['Total'] = df4['Total'] .astype(float) "
   ]
  },
  {
   "cell_type": "code",
   "execution_count": 21,
   "metadata": {},
   "outputs": [
    {
     "name": "stdout",
     "output_type": "stream",
     "text": [
      "DataFrame 1:\n",
      "Año          object\n",
      "Trimestre    object\n",
      "Provincia    object\n",
      "dtype: object\n",
      "\n",
      "\n",
      "DataFrame 2:\n",
      "Año           int64\n",
      "Trimestre     int64\n",
      "Provincia    object\n",
      "dtype: object\n",
      "\n",
      "\n",
      "DataFrame 3:\n",
      "Año           int64\n",
      "Trimestre     int64\n",
      "Provincia    object\n",
      "dtype: object\n",
      "\n",
      "\n",
      "DataFrame 4:\n",
      "Año           int64\n",
      "Trimestre     int64\n",
      "Provincia    object\n",
      "dtype: object\n",
      "\n",
      "\n"
     ]
    }
   ],
   "source": [
    "#Buscamos los tipos de datos que contiene cada dataset\n",
    "\n",
    "for i, df in enumerate([df1, df2, df3, df4], 1):\n",
    "    print(f\"DataFrame {i}:\")\n",
    "    print(df[['Año', 'Trimestre', 'Provincia']].dtypes)\n",
    "    print(\"\\n\")"
   ]
  },
  {
   "cell_type": "code",
   "execution_count": 22,
   "metadata": {},
   "outputs": [],
   "source": [
    "#Convertimos 'Año' a entero en todos los DataFrames y las organizamos en orden ascendente.\n",
    "\n",
    "for df in [df1, df2, df3, df4]:\n",
    "    df['Año'] = pd.to_numeric(df['Año'], errors='coerce').astype('Int64')\n",
    "    df = df.sort_values(by='Año', ascending=False)"
   ]
  },
  {
   "cell_type": "code",
   "execution_count": 23,
   "metadata": {},
   "outputs": [],
   "source": [
    "#Convertimos 'Trimestre' a entero en todos los DataFrames\n",
    "\n",
    "for df in [df1, df2, df3, df4]:\n",
    "    df['Trimestre'] = pd.to_numeric(df['Trimestre'], errors='coerce').astype('Int64')"
   ]
  },
  {
   "cell_type": "code",
   "execution_count": 24,
   "metadata": {},
   "outputs": [],
   "source": [
    "#Convertimos 'Provincia' a string en todos los DataFrames \n",
    "\n",
    "for df in [df1, df2, df3, df4]:\n",
    "    df['Provincia'] = df['Provincia'].astype(str)"
   ]
  },
  {
   "cell_type": "code",
   "execution_count": 25,
   "metadata": {},
   "outputs": [],
   "source": [
    "#Filtramos en todos los DataFrames la informacion a partir del año '2019' para hacer un analisis mas actual\n",
    "\n",
    "df1=df1[df1['Año'] >= 2019]\n",
    "df2=df2[df2['Año'] >= 2019]\n",
    "df3=df3[df3['Año'] >= 2019]\n",
    "df4=df4[df4['Año'] >= 2019]\n"
   ]
  },
  {
   "cell_type": "code",
   "execution_count": 26,
   "metadata": {},
   "outputs": [],
   "source": [
    "#Unificamos todos los DataFrames en uno solo, uniendo por las columnas 'Año', 'Trimestre' y 'Provincia'\n",
    "\n",
    "df_unificado = df1.merge(df2, on=['Año', 'Trimestre', 'Provincia'], how='outer')\n",
    "df_unificado = df_unificado.merge(df3, on=['Año', 'Trimestre', 'Provincia'], how='outer')\n",
    "df_unificado = df_unificado.merge(df4, on=['Año', 'Trimestre', 'Provincia'], how='outer')"
   ]
  },
  {
   "cell_type": "code",
   "execution_count": 27,
   "metadata": {},
   "outputs": [
    {
     "data": {
      "text/plain": [
       "Index(['Año', 'Trimestre', 'Provincia', 'ADSL', 'Cablemodem', 'Fibra óptica',\n",
       "       'Wireless', 'Otros', 'Total_x', 'Mbps (Media de bajada)',\n",
       "       'Accesos por cada 100 hogares', 'HASTA 512 kbps', '+ 512 Kbps - 1 Mbps',\n",
       "       '+ 1 Mbps - 6 Mbps', '+ 6 Mbps - 10 Mbps', '+ 10 Mbps - 20 Mbps',\n",
       "       '+ 20 Mbps - 30 Mbps', '+ 30 Mbps', 'OTROS', 'Total_y'],\n",
       "      dtype='object')"
      ]
     },
     "execution_count": 27,
     "metadata": {},
     "output_type": "execute_result"
    }
   ],
   "source": [
    "#Revisamos que las columnas hayan quedado adecuadas\n",
    "df_unificado.columns"
   ]
  },
  {
   "cell_type": "code",
   "execution_count": 28,
   "metadata": {},
   "outputs": [
    {
     "data": {
      "text/plain": [
       "0      3746667.0\n",
       "1      1399600.0\n",
       "2        33622.0\n",
       "3       103677.0\n",
       "4        79778.0\n",
       "         ...    \n",
       "499      80208.0\n",
       "500     918588.0\n",
       "501     124362.0\n",
       "502      61555.0\n",
       "503     264595.0\n",
       "Name: Total_x, Length: 504, dtype: float64"
      ]
     },
     "execution_count": 28,
     "metadata": {},
     "output_type": "execute_result"
    }
   ],
   "source": [
    "df_unificado['Total_x'] #Tengo que cambiar el nombre'"
   ]
  },
  {
   "cell_type": "code",
   "execution_count": 29,
   "metadata": {},
   "outputs": [],
   "source": [
    "#Modificamos el nombre de algunas columnas para que sea comprensiva la informacion\n",
    "\n",
    "df_unificado= df_unificado.rename(columns={'Otros': 'Otros accesos'})"
   ]
  },
  {
   "cell_type": "code",
   "execution_count": 30,
   "metadata": {},
   "outputs": [],
   "source": [
    "df_unificado= df_unificado.rename(columns={'OTROS': 'Otras velocidades'})"
   ]
  },
  {
   "cell_type": "code",
   "execution_count": 31,
   "metadata": {},
   "outputs": [],
   "source": [
    "#Cambiar nombre de 'Total_x'\n",
    "\n",
    "df_unificado= df_unificado.rename(columns={'Total_x': 'Total accesos'})"
   ]
  },
  {
   "cell_type": "code",
   "execution_count": 32,
   "metadata": {},
   "outputs": [],
   "source": [
    "#Cambiar nombre de 'Total_y'\n",
    "\n",
    "df_unificado= df_unificado.rename(columns={'Total_y': 'Total velocidades'})"
   ]
  },
  {
   "cell_type": "code",
   "execution_count": 33,
   "metadata": {},
   "outputs": [],
   "source": [
    "#Pasamos el DataFrame unificado a un archivo csv\n",
    "\n",
    "#df_unificado.to_csv('Provincias.csv', index=False)\n",
    "\n",
    "df_unificado.to_excel('Provincias.xlsx', index=False)\n"
   ]
  },
  {
   "cell_type": "markdown",
   "metadata": {},
   "source": [
    "Al revisar el archivo 'Provincias_csv' nos encontramos con informacion faltante de 'Accesos por velocidad' en las filas del año 2023, trimestre 4. \n",
    "\n",
    "No lo eliminaremos ya que las filas contienen informacion valiosa de ese año y cuatrimestre que nos es relevante."
   ]
  },
  {
   "cell_type": "markdown",
   "metadata": {},
   "source": [
    "---------------------------------------------------------------------------------------------------------------------------------------------\n",
    "\n",
    "---------------------------------------------------------------------------------------------------------------------------------------------"
   ]
  }
 ],
 "metadata": {
  "kernelspec": {
   "display_name": "Python 3",
   "language": "python",
   "name": "python3"
  },
  "language_info": {
   "codemirror_mode": {
    "name": "ipython",
    "version": 3
   },
   "file_extension": ".py",
   "mimetype": "text/x-python",
   "name": "python",
   "nbconvert_exporter": "python",
   "pygments_lexer": "ipython3",
   "version": "3.12.5"
  }
 },
 "nbformat": 4,
 "nbformat_minor": 2
}
